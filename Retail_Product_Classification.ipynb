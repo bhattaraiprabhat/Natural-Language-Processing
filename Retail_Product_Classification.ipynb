{
 "cells": [
  {
   "cell_type": "markdown",
   "metadata": {},
   "source": [
    "# Eco-focused office supply recommendation engine"
   ]
  },
  {
   "cell_type": "markdown",
   "metadata": {},
   "source": [
    "The main goal of this code is to extract important features of each product and apply supervised machine learning to create Machine Learning model. \n",
    "A user can input a text to look for an object. The input goes to the model and picks up a relevant class. \n",
    "The next important step is to group and order the product in a particular class and recommend the product in desired order.\n",
    "In this project, to recommend eco-friendly supplies, we choose product with highest eco-star with lowest price first. \n",
    "\n",
    "Note 1: An exhaustive search method could be applied to meet the objective of the project. In this however, exhaustive search is not a scalable approach. Therefore, Machine Learning model has been used to solve the problem. \n",
    "\n",
    "Note 2: In the present model user can't search product by SKUs. Because each item has unique SKU, machine learning is not suitable method. So there must be separate exhaustive search routine to take care of SKUs.\n",
    "\n",
    "Note 3: Please visit the page below to check the functionality. Please input some words like \"Dish Soap\" and \"Submit\".\n",
    "Please click \"Show Lowest Price Items\" to see the product with lowest price.\n",
    "http://www.officesupplyrecom.space\n",
    "  \n",
    "Note4: Current model gives 93% accuracy to find \"Class Name\" and 89% accuracy to find \"Sub Class Name\". There are about 219 \"Class Name\" and 1100 \"Sub Class Name\". This accuracy can be improved using different machine learning model (such as Naive Bayes), using more features in the data (such as price). Also, hierarchical classification could be used to make it better. Improvement requires more research and further close meeting with the RawOffice teams.\n",
    "\n",
    "Note5: Provided a time of 3 weeks, this is a best POC the author could provide. The front end (\"http://www.officesupplyrecom.space\") helps to discover where and how the model fails to predict correct class.\n"
   ]
  },
  {
   "cell_type": "markdown",
   "metadata": {},
   "source": [
    "# Import important libraries"
   ]
  },
  {
   "cell_type": "code",
   "execution_count": 1,
   "metadata": {},
   "outputs": [],
   "source": [
    "import pandas as pd\n",
    "import numpy as np\n",
    "from scipy import sparse\n",
    "\n",
    "from nltk.stem import WordNetLemmatizer\n",
    "\n",
    "from sklearn.pipeline import Pipeline, make_pipeline, FeatureUnion\n",
    "from sklearn.feature_extraction.text import TfidfVectorizer\n",
    "from sklearn.base import BaseEstimator, ClassifierMixin\n",
    "from sklearn.linear_model import LogisticRegression\n",
    "from sklearn.model_selection import cross_val_score, GridSearchCV, RandomizedSearchCV\n",
    "from sklearn.metrics import roc_auc_score\n",
    "from sklearn import svm\n",
    "from sklearn.datasets import samples_generator\n",
    "from sklearn.feature_selection import SelectKBest\n",
    "from sklearn.feature_selection import f_regression\n",
    "from sklearn.pipeline import Pipeline\n",
    "from sklearn.model_selection import train_test_split\n",
    "\n",
    "from sklearn.metrics import accuracy_score, f1_score, precision_score, recall_score, classification_report\n",
    "\n",
    "import nltk\n",
    "\n",
    "import matplotlib.pyplot as plt\n",
    "\n",
    "\n",
    "from sklearn.feature_extraction.text import CountVectorizer\n",
    "from sklearn.linear_model import LogisticRegression\n",
    "from sklearn.feature_extraction.text import TfidfTransformer\n",
    "from sklearn.naive_bayes import MultinomialNB\n",
    "from xgboost import XGBClassifier"
   ]
  },
  {
   "cell_type": "markdown",
   "metadata": {},
   "source": [
    "# Data Source"
   ]
  },
  {
   "cell_type": "markdown",
   "metadata": {},
   "source": [
    "Provided data was from the excel file: \"Combined-SPData-Price-Category-RawScore.xlsx\", sheet_name \"USA-PRICING\""
   ]
  },
  {
   "cell_type": "code",
   "execution_count": 2,
   "metadata": {},
   "outputs": [],
   "source": [
    "Com_SP_Richards = pd.read_excel(\"data/Combined-SPData-Price-Category-RawScore.xlsx\", sheet_name=\"USA-PRICING\")"
   ]
  },
  {
   "cell_type": "code",
   "execution_count": 3,
   "metadata": {},
   "outputs": [],
   "source": [
    "#print(list(Com_SP_Richards))"
   ]
  },
  {
   "cell_type": "code",
   "execution_count": 4,
   "metadata": {},
   "outputs": [
    {
     "name": "stdout",
     "output_type": "stream",
     "text": [
      "(48877, 147)\n"
     ]
    }
   ],
   "source": [
    "print(Com_SP_Richards.shape)\n",
    "#There are only (48877, 147) points."
   ]
  },
  {
   "cell_type": "code",
   "execution_count": 5,
   "metadata": {},
   "outputs": [
    {
     "name": "stdout",
     "output_type": "stream",
     "text": [
      "49\n"
     ]
    }
   ],
   "source": [
    "for i in range (Com_SP_Richards.shape[1]):\n",
    "    if list(Com_SP_Richards)[i] =='Stripped Stock Number':\n",
    "        print(i)\n",
    "#Stripped Stock Number  appears in column 49 and SKU appears in 107"
   ]
  },
  {
   "cell_type": "code",
   "execution_count": 6,
   "metadata": {},
   "outputs": [
    {
     "name": "stdout",
     "output_type": "stream",
     "text": [
      "Total unmatched SKU 2496\n"
     ]
    }
   ],
   "source": [
    "count=0\n",
    "for i in range(Com_SP_Richards.shape[0]):\n",
    "#for i in range(10):\n",
    "    if (Com_SP_Richards.iloc[i][49] != Com_SP_Richards.iloc[i][107]):\n",
    "        count+=1\n",
    "        #print (Com_SP_Richards.iloc[i][49], Com_SP_Richards.iloc[i][107])\n",
    "print (\"Total unmatched SKU\", count)\n",
    "\n",
    "#Total unmatched SKU 2496. Some have slightly different SKUs and some of Com_SP_Richards.iloc[i][107] are nan"
   ]
  },
  {
   "cell_type": "code",
   "execution_count": 7,
   "metadata": {},
   "outputs": [],
   "source": [
    "Com_SP_Richards_subset = Com_SP_Richards[['Product Specifications','Desc1','RawScore','Promo Level 3 Dealer Cost','Class Name', 'Sub Class Name']]"
   ]
  },
  {
   "cell_type": "code",
   "execution_count": 8,
   "metadata": {},
   "outputs": [
    {
     "data": {
      "text/html": [
       "<div>\n",
       "<style scoped>\n",
       "    .dataframe tbody tr th:only-of-type {\n",
       "        vertical-align: middle;\n",
       "    }\n",
       "\n",
       "    .dataframe tbody tr th {\n",
       "        vertical-align: top;\n",
       "    }\n",
       "\n",
       "    .dataframe thead th {\n",
       "        text-align: right;\n",
       "    }\n",
       "</style>\n",
       "<table border=\"1\" class=\"dataframe\">\n",
       "  <thead>\n",
       "    <tr style=\"text-align: right;\">\n",
       "      <th></th>\n",
       "      <th>Product Specifications</th>\n",
       "      <th>Desc1</th>\n",
       "      <th>RawScore</th>\n",
       "      <th>Promo Level 3 Dealer Cost</th>\n",
       "      <th>Class Name</th>\n",
       "      <th>Sub Class Name</th>\n",
       "    </tr>\n",
       "  </thead>\n",
       "  <tbody>\n",
       "    <tr>\n",
       "      <th>0</th>\n",
       "      <td>&lt;div&gt; &lt;b&gt;General Information&lt;/b&gt; &lt;hr&gt;  &lt;span...</td>\n",
       "      <td>At-A-Glance June Academic Weekly Monthly Plann...</td>\n",
       "      <td>4.0</td>\n",
       "      <td>9.43</td>\n",
       "      <td>Calendars &amp; Refills</td>\n",
       "      <td>Appointment Books &amp; Planners</td>\n",
       "    </tr>\n",
       "    <tr>\n",
       "      <th>1</th>\n",
       "      <td>&lt;div&gt; &lt;b&gt;General Information&lt;/b&gt; &lt;hr&gt;  &lt;span...</td>\n",
       "      <td>At-A-Glance June Academic Monthly Planner - Ac...</td>\n",
       "      <td>4.0</td>\n",
       "      <td>8.80</td>\n",
       "      <td>Calendars &amp; Refills</td>\n",
       "      <td>Appointment Books &amp; Planners</td>\n",
       "    </tr>\n",
       "    <tr>\n",
       "      <th>2</th>\n",
       "      <td>&lt;div&gt; &lt;b&gt;General Information&lt;/b&gt; &lt;hr&gt;  &lt;span...</td>\n",
       "      <td>At-A-Glance June Academic Weekly Monthly Plann...</td>\n",
       "      <td>4.0</td>\n",
       "      <td>10.67</td>\n",
       "      <td>Calendars &amp; Refills</td>\n",
       "      <td>Appointment Books &amp; Planners</td>\n",
       "    </tr>\n",
       "    <tr>\n",
       "      <th>3</th>\n",
       "      <td>&lt;div&gt; &lt;b&gt;General Information&lt;/b&gt; &lt;hr&gt;  &lt;span...</td>\n",
       "      <td>At-A-Glance Cityscape Academic Weekly/Monthly ...</td>\n",
       "      <td>4.0</td>\n",
       "      <td>10.45</td>\n",
       "      <td>Calendars &amp; Refills</td>\n",
       "      <td>Appointment Books &amp; Planners</td>\n",
       "    </tr>\n",
       "    <tr>\n",
       "      <th>4</th>\n",
       "      <td>&lt;div&gt; &lt;b&gt;General Information&lt;/b&gt; &lt;hr&gt;  &lt;span...</td>\n",
       "      <td>At-A-Glance Cityscape Academic Professional Mo...</td>\n",
       "      <td>4.0</td>\n",
       "      <td>11.10</td>\n",
       "      <td>Calendars &amp; Refills</td>\n",
       "      <td>Appointment Books &amp; Planners</td>\n",
       "    </tr>\n",
       "  </tbody>\n",
       "</table>\n",
       "</div>"
      ],
      "text/plain": [
       "                              Product Specifications  \\\n",
       "0    <div> <b>General Information</b> <hr>  <span...   \n",
       "1    <div> <b>General Information</b> <hr>  <span...   \n",
       "2    <div> <b>General Information</b> <hr>  <span...   \n",
       "3    <div> <b>General Information</b> <hr>  <span...   \n",
       "4    <div> <b>General Information</b> <hr>  <span...   \n",
       "\n",
       "                                               Desc1  RawScore  \\\n",
       "0  At-A-Glance June Academic Weekly Monthly Plann...       4.0   \n",
       "1  At-A-Glance June Academic Monthly Planner - Ac...       4.0   \n",
       "2  At-A-Glance June Academic Weekly Monthly Plann...       4.0   \n",
       "3  At-A-Glance Cityscape Academic Weekly/Monthly ...       4.0   \n",
       "4  At-A-Glance Cityscape Academic Professional Mo...       4.0   \n",
       "\n",
       "   Promo Level 3 Dealer Cost           Class Name  \\\n",
       "0                       9.43  Calendars & Refills   \n",
       "1                       8.80  Calendars & Refills   \n",
       "2                      10.67  Calendars & Refills   \n",
       "3                      10.45  Calendars & Refills   \n",
       "4                      11.10  Calendars & Refills   \n",
       "\n",
       "                 Sub Class Name  \n",
       "0  Appointment Books & Planners  \n",
       "1  Appointment Books & Planners  \n",
       "2  Appointment Books & Planners  \n",
       "3  Appointment Books & Planners  \n",
       "4  Appointment Books & Planners  "
      ]
     },
     "execution_count": 8,
     "metadata": {},
     "output_type": "execute_result"
    }
   ],
   "source": [
    "Com_SP_Richards_subset.head()"
   ]
  },
  {
   "cell_type": "markdown",
   "metadata": {},
   "source": [
    "Product name is not explicitly found anywhere except in Product Specifications. Therefore, the regular expression has been used to select \"Product Name\" from the entire string. "
   ]
  },
  {
   "cell_type": "code",
   "execution_count": 9,
   "metadata": {},
   "outputs": [],
   "source": [
    "import re\n",
    "from re import finditer\n",
    "def apply_reg_exp_to_extract_name(string):\n",
    "    pat = r'<span>Product Name</span>: (.*)' #Pattern Between which Name Of the product is \n",
    "    try:\n",
    "        first = re.search(pat, string)\n",
    "        for match in finditer(r'<br/>(.*)', first[1]):\n",
    "            end= match.span()\n",
    "            return first[1][1:end[0]]\n",
    "    except:\n",
    "            return ' '"
   ]
  },
  {
   "cell_type": "code",
   "execution_count": 10,
   "metadata": {},
   "outputs": [
    {
     "name": "stderr",
     "output_type": "stream",
     "text": [
      "/Users/prabhatb/anaconda3/lib/python3.6/site-packages/ipykernel_launcher.py:3: SettingWithCopyWarning: \n",
      "A value is trying to be set on a copy of a slice from a DataFrame.\n",
      "Try using .loc[row_indexer,col_indexer] = value instead\n",
      "\n",
      "See the caveats in the documentation: http://pandas.pydata.org/pandas-docs/stable/indexing.html#indexing-view-versus-copy\n",
      "  This is separate from the ipykernel package so we can avoid doing imports until\n"
     ]
    }
   ],
   "source": [
    "import re\n",
    "from re import finditer\n",
    "Com_SP_Richards_subset['Product Specifications'] = Com_SP_Richards_subset['Product Specifications'].apply(apply_reg_exp_to_extract_name)"
   ]
  },
  {
   "cell_type": "code",
   "execution_count": 11,
   "metadata": {},
   "outputs": [
    {
     "name": "stderr",
     "output_type": "stream",
     "text": [
      "/Users/prabhatb/anaconda3/lib/python3.6/site-packages/ipykernel_launcher.py:1: SettingWithCopyWarning: \n",
      "A value is trying to be set on a copy of a slice from a DataFrame.\n",
      "Try using .loc[row_indexer,col_indexer] = value instead\n",
      "\n",
      "See the caveats in the documentation: http://pandas.pydata.org/pandas-docs/stable/indexing.html#indexing-view-versus-copy\n",
      "  \"\"\"Entry point for launching an IPython kernel.\n"
     ]
    }
   ],
   "source": [
    "Com_SP_Richards_subset[\"Features\"] = Com_SP_Richards_subset[\"Product Specifications\"] +' '+ Com_SP_Richards_subset[\"Desc1\"]"
   ]
  },
  {
   "cell_type": "markdown",
   "metadata": {},
   "source": [
    "Now the product specification has just \"Product Name\" and non other informations. And in the input \"Features\" of the Machine Learning model \"Product Specification\" and \"Desc1\" have been combined. "
   ]
  },
  {
   "cell_type": "code",
   "execution_count": 12,
   "metadata": {},
   "outputs": [
    {
     "data": {
      "text/html": [
       "<div>\n",
       "<style scoped>\n",
       "    .dataframe tbody tr th:only-of-type {\n",
       "        vertical-align: middle;\n",
       "    }\n",
       "\n",
       "    .dataframe tbody tr th {\n",
       "        vertical-align: top;\n",
       "    }\n",
       "\n",
       "    .dataframe thead th {\n",
       "        text-align: right;\n",
       "    }\n",
       "</style>\n",
       "<table border=\"1\" class=\"dataframe\">\n",
       "  <thead>\n",
       "    <tr style=\"text-align: right;\">\n",
       "      <th></th>\n",
       "      <th>Product Specifications</th>\n",
       "      <th>Desc1</th>\n",
       "      <th>RawScore</th>\n",
       "      <th>Promo Level 3 Dealer Cost</th>\n",
       "      <th>Class Name</th>\n",
       "      <th>Sub Class Name</th>\n",
       "      <th>Features</th>\n",
       "    </tr>\n",
       "  </thead>\n",
       "  <tbody>\n",
       "    <tr>\n",
       "      <th>0</th>\n",
       "      <td>June Academic Weekly Monthly Planner</td>\n",
       "      <td>At-A-Glance June Academic Weekly Monthly Plann...</td>\n",
       "      <td>4.0</td>\n",
       "      <td>9.43</td>\n",
       "      <td>Calendars &amp; Refills</td>\n",
       "      <td>Appointment Books &amp; Planners</td>\n",
       "      <td>June Academic Weekly Monthly Planner At-A-Glan...</td>\n",
       "    </tr>\n",
       "    <tr>\n",
       "      <th>1</th>\n",
       "      <td>June Academic Monthly Planner</td>\n",
       "      <td>At-A-Glance June Academic Monthly Planner - Ac...</td>\n",
       "      <td>4.0</td>\n",
       "      <td>8.80</td>\n",
       "      <td>Calendars &amp; Refills</td>\n",
       "      <td>Appointment Books &amp; Planners</td>\n",
       "      <td>June Academic Monthly Planner At-A-Glance June...</td>\n",
       "    </tr>\n",
       "    <tr>\n",
       "      <th>2</th>\n",
       "      <td>June Academic Weekly Monthly Planner</td>\n",
       "      <td>At-A-Glance June Academic Weekly Monthly Plann...</td>\n",
       "      <td>4.0</td>\n",
       "      <td>10.67</td>\n",
       "      <td>Calendars &amp; Refills</td>\n",
       "      <td>Appointment Books &amp; Planners</td>\n",
       "      <td>June Academic Weekly Monthly Planner At-A-Glan...</td>\n",
       "    </tr>\n",
       "    <tr>\n",
       "      <th>3</th>\n",
       "      <td>Cityscape Academic Weekly/Monthly Planner</td>\n",
       "      <td>At-A-Glance Cityscape Academic Weekly/Monthly ...</td>\n",
       "      <td>4.0</td>\n",
       "      <td>10.45</td>\n",
       "      <td>Calendars &amp; Refills</td>\n",
       "      <td>Appointment Books &amp; Planners</td>\n",
       "      <td>Cityscape Academic Weekly/Monthly Planner At-A...</td>\n",
       "    </tr>\n",
       "    <tr>\n",
       "      <th>4</th>\n",
       "      <td>Cityscape Academic Professional Monthly  Planner</td>\n",
       "      <td>At-A-Glance Cityscape Academic Professional Mo...</td>\n",
       "      <td>4.0</td>\n",
       "      <td>11.10</td>\n",
       "      <td>Calendars &amp; Refills</td>\n",
       "      <td>Appointment Books &amp; Planners</td>\n",
       "      <td>Cityscape Academic Professional Monthly  Plann...</td>\n",
       "    </tr>\n",
       "  </tbody>\n",
       "</table>\n",
       "</div>"
      ],
      "text/plain": [
       "                             Product Specifications  \\\n",
       "0              June Academic Weekly Monthly Planner   \n",
       "1                     June Academic Monthly Planner   \n",
       "2              June Academic Weekly Monthly Planner   \n",
       "3         Cityscape Academic Weekly/Monthly Planner   \n",
       "4  Cityscape Academic Professional Monthly  Planner   \n",
       "\n",
       "                                               Desc1  RawScore  \\\n",
       "0  At-A-Glance June Academic Weekly Monthly Plann...       4.0   \n",
       "1  At-A-Glance June Academic Monthly Planner - Ac...       4.0   \n",
       "2  At-A-Glance June Academic Weekly Monthly Plann...       4.0   \n",
       "3  At-A-Glance Cityscape Academic Weekly/Monthly ...       4.0   \n",
       "4  At-A-Glance Cityscape Academic Professional Mo...       4.0   \n",
       "\n",
       "   Promo Level 3 Dealer Cost           Class Name  \\\n",
       "0                       9.43  Calendars & Refills   \n",
       "1                       8.80  Calendars & Refills   \n",
       "2                      10.67  Calendars & Refills   \n",
       "3                      10.45  Calendars & Refills   \n",
       "4                      11.10  Calendars & Refills   \n",
       "\n",
       "                 Sub Class Name  \\\n",
       "0  Appointment Books & Planners   \n",
       "1  Appointment Books & Planners   \n",
       "2  Appointment Books & Planners   \n",
       "3  Appointment Books & Planners   \n",
       "4  Appointment Books & Planners   \n",
       "\n",
       "                                            Features  \n",
       "0  June Academic Weekly Monthly Planner At-A-Glan...  \n",
       "1  June Academic Monthly Planner At-A-Glance June...  \n",
       "2  June Academic Weekly Monthly Planner At-A-Glan...  \n",
       "3  Cityscape Academic Weekly/Monthly Planner At-A...  \n",
       "4  Cityscape Academic Professional Monthly  Plann...  "
      ]
     },
     "execution_count": 12,
     "metadata": {},
     "output_type": "execute_result"
    }
   ],
   "source": [
    "Com_SP_Richards_subset.head()"
   ]
  },
  {
   "cell_type": "markdown",
   "metadata": {},
   "source": [
    "# Data Pre-Processing"
   ]
  },
  {
   "cell_type": "markdown",
   "metadata": {},
   "source": [
    "We standardize text using regular expression"
   ]
  },
  {
   "cell_type": "code",
   "execution_count": 25,
   "metadata": {},
   "outputs": [],
   "source": [
    "def standardize_text(string):\n",
    "    string =str(string)\n",
    "    string =string.replace(r\"http\\S+\", \"\")\n",
    "    string =string.replace(r\"http\", \"\")\n",
    "    string =string.replace(r\"@\\S+\", \"\")\n",
    "    string =string.replace(r\"[^A-Za-z0-9(),!?@\\'\\`\\\"\\_\\n]\", \" \")\n",
    "    string =string.replace(r\"@\", \"at\")\n",
    "    string =string.replace(r\"&\", \"and\")\n",
    "    string =string.lower()\n",
    "    \n",
    "    return string"
   ]
  },
  {
   "cell_type": "code",
   "execution_count": 26,
   "metadata": {},
   "outputs": [],
   "source": [
    "Com_SP_Richards_subset['Features'] = Com_SP_Richards_subset['Features'].apply(standardize_text)"
   ]
  },
  {
   "cell_type": "code",
   "execution_count": 27,
   "metadata": {},
   "outputs": [
    {
     "data": {
      "text/plain": [
       "0    june academic weekly monthly planner at-a-glan...\n",
       "1    june academic monthly planner at-a-glance june...\n",
       "2    june academic weekly monthly planner at-a-glan...\n",
       "3    cityscape academic weekly/monthly planner at-a...\n",
       "4    cityscape academic professional monthly  plann...\n",
       "Name: Features, dtype: object"
      ]
     },
     "execution_count": 27,
     "metadata": {},
     "output_type": "execute_result"
    }
   ],
   "source": [
    "Com_SP_Richards_subset['Features'].head()"
   ]
  },
  {
   "cell_type": "code",
   "execution_count": 28,
   "metadata": {},
   "outputs": [
    {
     "data": {
      "text/plain": [
       "'Teaching Supplies'"
      ]
     },
     "execution_count": 28,
     "metadata": {},
     "output_type": "execute_result"
    }
   ],
   "source": [
    "#Checking correctiness\n",
    "Com_SP_Richards_subset.iloc[3853]['Class Name']"
   ]
  },
  {
   "cell_type": "code",
   "execution_count": 29,
   "metadata": {},
   "outputs": [],
   "source": [
    "#Remove all NaN values in the data\n",
    "Com_SP_Richards_subset= Com_SP_Richards_subset.dropna()"
   ]
  },
  {
   "cell_type": "code",
   "execution_count": 30,
   "metadata": {},
   "outputs": [],
   "source": [
    "Com_SP_Richards_subset= Com_SP_Richards_subset[~Com_SP_Richards_subset.isin(['NaN', 'NaT','nan','NAN']).any(axis=1)]"
   ]
  },
  {
   "cell_type": "code",
   "execution_count": 31,
   "metadata": {},
   "outputs": [],
   "source": [
    "#Before classification, the \"Sub Class Name\" have been converted to labels 0 through 1012\n",
    "Com_SP_Richards_subset[\"Sub Class Label\"] = Com_SP_Richards_subset[\"Sub Class Name\"].astype('category')\n",
    "Com_SP_Richards_subset[\"Sub Class Label\"]= Com_SP_Richards_subset[\"Sub Class Label\"].cat.codes.values\n"
   ]
  },
  {
   "cell_type": "code",
   "execution_count": 32,
   "metadata": {},
   "outputs": [
    {
     "data": {
      "text/plain": [
       "0"
      ]
     },
     "execution_count": 32,
     "metadata": {},
     "output_type": "execute_result"
    }
   ],
   "source": [
    "Com_SP_Richards_subset[\"Sub Class Label\"].min()"
   ]
  },
  {
   "cell_type": "code",
   "execution_count": 33,
   "metadata": {},
   "outputs": [
    {
     "data": {
      "text/plain": [
       "1012"
      ]
     },
     "execution_count": 33,
     "metadata": {},
     "output_type": "execute_result"
    }
   ],
   "source": [
    "Com_SP_Richards_subset[\"Sub Class Label\"].max()"
   ]
  },
  {
   "cell_type": "code",
   "execution_count": 34,
   "metadata": {},
   "outputs": [
    {
     "name": "stdout",
     "output_type": "stream",
     "text": [
      "nan Counts:   0\n"
     ]
    }
   ],
   "source": [
    "#Cross check if there are still any NaN in data\n",
    "nan_count =0\n",
    "for i in range (Com_SP_Richards_subset.shape[0]):\n",
    "#for i in range (10):\n",
    "    if Com_SP_Richards_subset.iloc[i][7]==-1:\n",
    "        nan_count +=1\n",
    "        #print (i, Com_SP_Richards_subset.iloc[i][7])\n",
    "print (\"nan Counts:  \", nan_count)\n",
    "#Before dropping nan there were 47 nan class or subclass"
   ]
  },
  {
   "cell_type": "code",
   "execution_count": 35,
   "metadata": {},
   "outputs": [
    {
     "data": {
      "text/plain": [
       "(47613, 8)"
      ]
     },
     "execution_count": 35,
     "metadata": {},
     "output_type": "execute_result"
    }
   ],
   "source": [
    "Com_SP_Richards_subset.shape"
   ]
  },
  {
   "cell_type": "code",
   "execution_count": 36,
   "metadata": {},
   "outputs": [
    {
     "data": {
      "text/plain": [
       "1013"
      ]
     },
     "execution_count": 36,
     "metadata": {},
     "output_type": "execute_result"
    }
   ],
   "source": [
    "Com_SP_Richards_subset['Sub Class Label'].nunique()\n",
    "#There are 1013 unique classes in the data"
   ]
  },
  {
   "cell_type": "code",
   "execution_count": 37,
   "metadata": {},
   "outputs": [
    {
     "data": {
      "text/html": [
       "<div>\n",
       "<style scoped>\n",
       "    .dataframe tbody tr th:only-of-type {\n",
       "        vertical-align: middle;\n",
       "    }\n",
       "\n",
       "    .dataframe tbody tr th {\n",
       "        vertical-align: top;\n",
       "    }\n",
       "\n",
       "    .dataframe thead th {\n",
       "        text-align: right;\n",
       "    }\n",
       "</style>\n",
       "<table border=\"1\" class=\"dataframe\">\n",
       "  <thead>\n",
       "    <tr style=\"text-align: right;\">\n",
       "      <th></th>\n",
       "      <th>Product Specifications</th>\n",
       "      <th>Desc1</th>\n",
       "      <th>RawScore</th>\n",
       "      <th>Promo Level 3 Dealer Cost</th>\n",
       "      <th>Class Name</th>\n",
       "      <th>Sub Class Name</th>\n",
       "      <th>Features</th>\n",
       "      <th>Sub Class Label</th>\n",
       "    </tr>\n",
       "  </thead>\n",
       "  <tbody>\n",
       "    <tr>\n",
       "      <th>0</th>\n",
       "      <td>June Academic Weekly Monthly Planner</td>\n",
       "      <td>At-A-Glance June Academic Weekly Monthly Plann...</td>\n",
       "      <td>4.0</td>\n",
       "      <td>9.43</td>\n",
       "      <td>Calendars &amp; Refills</td>\n",
       "      <td>Appointment Books &amp; Planners</td>\n",
       "      <td>june academic weekly monthly planner at-a-glan...</td>\n",
       "      <td>31</td>\n",
       "    </tr>\n",
       "    <tr>\n",
       "      <th>1</th>\n",
       "      <td>June Academic Monthly Planner</td>\n",
       "      <td>At-A-Glance June Academic Monthly Planner - Ac...</td>\n",
       "      <td>4.0</td>\n",
       "      <td>8.80</td>\n",
       "      <td>Calendars &amp; Refills</td>\n",
       "      <td>Appointment Books &amp; Planners</td>\n",
       "      <td>june academic monthly planner at-a-glance june...</td>\n",
       "      <td>31</td>\n",
       "    </tr>\n",
       "    <tr>\n",
       "      <th>2</th>\n",
       "      <td>June Academic Weekly Monthly Planner</td>\n",
       "      <td>At-A-Glance June Academic Weekly Monthly Plann...</td>\n",
       "      <td>4.0</td>\n",
       "      <td>10.67</td>\n",
       "      <td>Calendars &amp; Refills</td>\n",
       "      <td>Appointment Books &amp; Planners</td>\n",
       "      <td>june academic weekly monthly planner at-a-glan...</td>\n",
       "      <td>31</td>\n",
       "    </tr>\n",
       "    <tr>\n",
       "      <th>3</th>\n",
       "      <td>Cityscape Academic Weekly/Monthly Planner</td>\n",
       "      <td>At-A-Glance Cityscape Academic Weekly/Monthly ...</td>\n",
       "      <td>4.0</td>\n",
       "      <td>10.45</td>\n",
       "      <td>Calendars &amp; Refills</td>\n",
       "      <td>Appointment Books &amp; Planners</td>\n",
       "      <td>cityscape academic weekly/monthly planner at-a...</td>\n",
       "      <td>31</td>\n",
       "    </tr>\n",
       "    <tr>\n",
       "      <th>4</th>\n",
       "      <td>Cityscape Academic Professional Monthly  Planner</td>\n",
       "      <td>At-A-Glance Cityscape Academic Professional Mo...</td>\n",
       "      <td>4.0</td>\n",
       "      <td>11.10</td>\n",
       "      <td>Calendars &amp; Refills</td>\n",
       "      <td>Appointment Books &amp; Planners</td>\n",
       "      <td>cityscape academic professional monthly  plann...</td>\n",
       "      <td>31</td>\n",
       "    </tr>\n",
       "  </tbody>\n",
       "</table>\n",
       "</div>"
      ],
      "text/plain": [
       "                             Product Specifications  \\\n",
       "0              June Academic Weekly Monthly Planner   \n",
       "1                     June Academic Monthly Planner   \n",
       "2              June Academic Weekly Monthly Planner   \n",
       "3         Cityscape Academic Weekly/Monthly Planner   \n",
       "4  Cityscape Academic Professional Monthly  Planner   \n",
       "\n",
       "                                               Desc1  RawScore  \\\n",
       "0  At-A-Glance June Academic Weekly Monthly Plann...       4.0   \n",
       "1  At-A-Glance June Academic Monthly Planner - Ac...       4.0   \n",
       "2  At-A-Glance June Academic Weekly Monthly Plann...       4.0   \n",
       "3  At-A-Glance Cityscape Academic Weekly/Monthly ...       4.0   \n",
       "4  At-A-Glance Cityscape Academic Professional Mo...       4.0   \n",
       "\n",
       "   Promo Level 3 Dealer Cost           Class Name  \\\n",
       "0                       9.43  Calendars & Refills   \n",
       "1                       8.80  Calendars & Refills   \n",
       "2                      10.67  Calendars & Refills   \n",
       "3                      10.45  Calendars & Refills   \n",
       "4                      11.10  Calendars & Refills   \n",
       "\n",
       "                 Sub Class Name  \\\n",
       "0  Appointment Books & Planners   \n",
       "1  Appointment Books & Planners   \n",
       "2  Appointment Books & Planners   \n",
       "3  Appointment Books & Planners   \n",
       "4  Appointment Books & Planners   \n",
       "\n",
       "                                            Features  Sub Class Label  \n",
       "0  june academic weekly monthly planner at-a-glan...               31  \n",
       "1  june academic monthly planner at-a-glance june...               31  \n",
       "2  june academic weekly monthly planner at-a-glan...               31  \n",
       "3  cityscape academic weekly/monthly planner at-a...               31  \n",
       "4  cityscape academic professional monthly  plann...               31  "
      ]
     },
     "execution_count": 37,
     "metadata": {},
     "output_type": "execute_result"
    }
   ],
   "source": [
    "Com_SP_Richards_subset.head()"
   ]
  },
  {
   "cell_type": "markdown",
   "metadata": {},
   "source": [
    "It can clearly be seen in the table that \"Features\" and \"Sub Class Label\" are new features developed"
   ]
  },
  {
   "cell_type": "markdown",
   "metadata": {},
   "source": [
    "# Macnine Learning"
   ]
  },
  {
   "cell_type": "code",
   "execution_count": 38,
   "metadata": {},
   "outputs": [],
   "source": [
    "#Randimize the data before processing further. \n",
    "#Com_SP_Richards_subset= Com_SP_Richards_subset.sample(frac=1)"
   ]
  },
  {
   "cell_type": "code",
   "execution_count": 39,
   "metadata": {},
   "outputs": [
    {
     "data": {
      "text/html": [
       "<div>\n",
       "<style scoped>\n",
       "    .dataframe tbody tr th:only-of-type {\n",
       "        vertical-align: middle;\n",
       "    }\n",
       "\n",
       "    .dataframe tbody tr th {\n",
       "        vertical-align: top;\n",
       "    }\n",
       "\n",
       "    .dataframe thead th {\n",
       "        text-align: right;\n",
       "    }\n",
       "</style>\n",
       "<table border=\"1\" class=\"dataframe\">\n",
       "  <thead>\n",
       "    <tr style=\"text-align: right;\">\n",
       "      <th></th>\n",
       "      <th>Desc1</th>\n",
       "      <th>Sub Class Name</th>\n",
       "      <th>Promo Level 3 Dealer Cost</th>\n",
       "      <th>RawScore</th>\n",
       "    </tr>\n",
       "  </thead>\n",
       "  <tbody>\n",
       "    <tr>\n",
       "      <th>0</th>\n",
       "      <td>At-A-Glance June Academic Weekly Monthly Plann...</td>\n",
       "      <td>Appointment Books &amp; Planners</td>\n",
       "      <td>9.43</td>\n",
       "      <td>4.0</td>\n",
       "    </tr>\n",
       "    <tr>\n",
       "      <th>1</th>\n",
       "      <td>At-A-Glance June Academic Monthly Planner - Ac...</td>\n",
       "      <td>Appointment Books &amp; Planners</td>\n",
       "      <td>8.80</td>\n",
       "      <td>4.0</td>\n",
       "    </tr>\n",
       "    <tr>\n",
       "      <th>2</th>\n",
       "      <td>At-A-Glance June Academic Weekly Monthly Plann...</td>\n",
       "      <td>Appointment Books &amp; Planners</td>\n",
       "      <td>10.67</td>\n",
       "      <td>4.0</td>\n",
       "    </tr>\n",
       "    <tr>\n",
       "      <th>3</th>\n",
       "      <td>At-A-Glance Cityscape Academic Weekly/Monthly ...</td>\n",
       "      <td>Appointment Books &amp; Planners</td>\n",
       "      <td>10.45</td>\n",
       "      <td>4.0</td>\n",
       "    </tr>\n",
       "    <tr>\n",
       "      <th>4</th>\n",
       "      <td>At-A-Glance Cityscape Academic Professional Mo...</td>\n",
       "      <td>Appointment Books &amp; Planners</td>\n",
       "      <td>11.10</td>\n",
       "      <td>4.0</td>\n",
       "    </tr>\n",
       "  </tbody>\n",
       "</table>\n",
       "</div>"
      ],
      "text/plain": [
       "                                               Desc1  \\\n",
       "0  At-A-Glance June Academic Weekly Monthly Plann...   \n",
       "1  At-A-Glance June Academic Monthly Planner - Ac...   \n",
       "2  At-A-Glance June Academic Weekly Monthly Plann...   \n",
       "3  At-A-Glance Cityscape Academic Weekly/Monthly ...   \n",
       "4  At-A-Glance Cityscape Academic Professional Mo...   \n",
       "\n",
       "                 Sub Class Name  Promo Level 3 Dealer Cost  RawScore  \n",
       "0  Appointment Books & Planners                       9.43       4.0  \n",
       "1  Appointment Books & Planners                       8.80       4.0  \n",
       "2  Appointment Books & Planners                      10.67       4.0  \n",
       "3  Appointment Books & Planners                      10.45       4.0  \n",
       "4  Appointment Books & Planners                      11.10       4.0  "
      ]
     },
     "execution_count": 39,
     "metadata": {},
     "output_type": "execute_result"
    }
   ],
   "source": [
    "Com_SP_Richards_subset[['Desc1', 'Sub Class Name','Promo Level 3 Dealer Cost','RawScore']].head()"
   ]
  },
  {
   "cell_type": "code",
   "execution_count": 40,
   "metadata": {},
   "outputs": [
    {
     "name": "stdout",
     "output_type": "stream",
     "text": [
      "                                 Product Specifications  \\\n",
      "0                  June Academic Weekly Monthly Planner   \n",
      "1                         June Academic Monthly Planner   \n",
      "2                  June Academic Weekly Monthly Planner   \n",
      "3             Cityscape Academic Weekly/Monthly Planner   \n",
      "4      Cityscape Academic Professional Monthly  Planner   \n",
      "5             Cityscape Academic Weekly/Monthly Planner   \n",
      "6                   Mia Academic Weekly Monthly Planner   \n",
      "7              Penelope Academic Weekly/Monthly Planner   \n",
      "8                Aspire Academic Weekly/Monthly Planner   \n",
      "9                Aspire Academic Weekly/Monthly Planner   \n",
      "10                Ombre Academic Weekly/Monthly Planner   \n",
      "11                         Blush Weekly/Monthly Planner   \n",
      "12                         Blush Weekly/Monthly Planner   \n",
      "13                        Ingrid Weekly/Monthly Planner   \n",
      "14                        Ingrid Weekly/Monthly Planner   \n",
      "15                       Cecilia Weekly/Monthly Planner   \n",
      "16                       Cecilia Weekly/Monthly Planner   \n",
      "17                     Sun Dance Weekly/Monthly Planner   \n",
      "18                         Agate Weekly/Monthly Planner   \n",
      "19                         Agate Weekly/Monthly Planner   \n",
      "20                        Aurora Weekly/Monthly Planner   \n",
      "21                        Aurora Weekly/Monthly Planner   \n",
      "22                       Parasol Weekly/Monthly Planner   \n",
      "23                       Parasol Weekly/Monthly Planner   \n",
      "24                        Vienna Weekly/Monthly Planner   \n",
      "25                        Vienna Weekly/Monthly Planner   \n",
      "26                     Marrakesh Weekly/Monthly Planner   \n",
      "27                     Marrakesh Weekly Monthly Planner   \n",
      "28              B-Positive Small Weekly/Monthly Planner   \n",
      "29              B-Positive Small Weekly/Monthly Planner   \n",
      "...                                                 ...   \n",
      "48846                        Acidic Toilet Bowl Cleaner   \n",
      "48847            Antibacterial Disinfectant and Cleaner   \n",
      "48848             Concentrated Carpet Extractor Shampoo   \n",
      "48849              Extractor Carpet Shampoo Concentrate   \n",
      "48850                      Stain Resistant Floor Sealer   \n",
      "48851                      Stain Resistant Floor Sealer   \n",
      "48852             Prof. Strength Hardwood Floor Cleaner   \n",
      "48853                   Hardwood/Laminate Floor Cleaner   \n",
      "48854             Prof. Strength Hardwood Floor Cleaner   \n",
      "48855                   Hardwood/Laminate Floor Cleaner   \n",
      "48856                       High Traffic Carpet Cleaner   \n",
      "48857                       High Traffic Carpet Cleaner   \n",
      "48858                       High Traffic Carpet Cleaner   \n",
      "48859                       High Traffic Carpet Cleaner   \n",
      "48860              Commercial High Traffic Floor Finish   \n",
      "48861                         High-Traffic Floor Finish   \n",
      "48862                                    Floor Stripper   \n",
      "48863             Heavy-Duty Floor Stripper Concentrate   \n",
      "48864                         Multipurpose Pine Cleaner   \n",
      "48865                         Multipurpose Pine Cleaner   \n",
      "48866                Concentrated Neutral Floor Cleaner   \n",
      "48867                 Neutral Floor Cleaner Concentrate   \n",
      "48868                       No Rinse Floor Disinfectant   \n",
      "48869                       No-Rinse Floor Disinfectant   \n",
      "48870                          Odor Control Concentrate   \n",
      "48871                          Odor Control Concentrate   \n",
      "48872                          Quick Clean Disinfectant   \n",
      "48873                          Quick Clean Disinfectant   \n",
      "48874       Professional Strength Smoke Odor Eliminator   \n",
      "48875       Professional Strength Smoke Odor Eliminator   \n",
      "\n",
      "                                                   Desc1  RawScore  \\\n",
      "0      At-A-Glance June Academic Weekly Monthly Plann...       4.0   \n",
      "1      At-A-Glance June Academic Monthly Planner - Ac...       4.0   \n",
      "2      At-A-Glance June Academic Weekly Monthly Plann...       4.0   \n",
      "3      At-A-Glance Cityscape Academic Weekly/Monthly ...       4.0   \n",
      "4      At-A-Glance Cityscape Academic Professional Mo...       4.0   \n",
      "5      At-A-Glance Cityscape Academic Weekly/Monthly ...       4.0   \n",
      "6      At-A-Glance Mia Academic Weekly Monthly Planne...       4.0   \n",
      "7      At-A-Glance Penelope Academic Weekly/Monthly P...       4.0   \n",
      "8      At-A-Glance Aspire Academic Weekly/Monthly Pla...       3.0   \n",
      "9      At-A-Glance Aspire Academic Weekly/Monthly Pla...       2.0   \n",
      "10     At-A-Glance Ombre Academic Weekly/Monthly Plan...       4.0   \n",
      "11     At-A-Glance Blush Weekly/Monthly Planner - Pro...       4.0   \n",
      "12     At-A-Glance Blush Weekly/Monthly Planner - Pro...       4.0   \n",
      "13     At-A-Glance Ingrid Weekly/Monthly Planner - Pr...       4.0   \n",
      "14     At-A-Glance Ingrid Weekly/Monthly Planner - Pr...       4.0   \n",
      "15     At-A-Glance Cecilia Weekly/Monthly Planner - P...       4.0   \n",
      "16     At-A-Glance Cecilia Weekly/Monthly Planner - P...       4.0   \n",
      "17     At-A-Glance Sun Dance Weekly/Monthly Planner -...       4.0   \n",
      "18     At-A-Glance Agate Weekly/Monthly Planner - Pro...       4.0   \n",
      "19     At-A-Glance Agate Weekly/Monthly Planner - Jul...       4.0   \n",
      "20     At-A-Glance Aurora Weekly/Monthly Planner - Ju...       4.0   \n",
      "21     At-A-Glance Aurora Weekly/Monthly Planner - Ju...       4.0   \n",
      "22     At-A-Glance Parasol Weekly/Monthly Planner - J...       4.0   \n",
      "23     At-A-Glance Parasol Weekly/Monthly Planner - J...       4.0   \n",
      "24     At-A-Glance Vienna Weekly/Monthly Planner - Ju...       3.0   \n",
      "25     At-A-Glance Vienna Weekly/Monthly Planner - Ju...       2.0   \n",
      "26     At-A-Glance Marrakesh Weekly/Monthly Planner -...       4.0   \n",
      "27     At-A-Glance Marrakesh Weekly Monthly Planner -...       4.0   \n",
      "28     At-A-Glance B-Positive Small Weekly/Monthly Pl...       4.0   \n",
      "29     At-A-Glance B-Positive Small Weekly/Monthly Pl...       4.0   \n",
      "...                                                  ...       ...   \n",
      "48846  Zep Commercial Acidic Toilet Bowl Cleaner - 0....       2.0   \n",
      "48847  Zep Commercial Antibacterial Disinfectant and ...       2.0   \n",
      "48848  Zep Concentrated Carpet Extractor Shampoo - Li...       2.0   \n",
      "48849  Zep Commercial Extractor Carpet Shampoo Concen...       2.0   \n",
      "48850  Zep Stain Resistant Floor Sealer - Liquid - 1 ...       2.0   \n",
      "48851  Zep Commercial Stain Resistant Floor Sealer - ...       2.0   \n",
      "48852  Zep Commercial Prof. Strength Hardwood Floor C...       2.0   \n",
      "48853  Zep Commercial Hardwood/Laminate Floor Cleaner...       2.0   \n",
      "48854  Zep Commercial Prof. Strength Hardwood Floor C...       2.0   \n",
      "48855  Zep Commercial Hardwood/Laminate Floor Cleaner...       2.0   \n",
      "48856  Zep Commercial High Traffic Carpet Cleaner - L...       2.0   \n",
      "48857  Zep Commercial High Traffic Carpet Cleaner - L...       2.0   \n",
      "48858  Zep High Traffic Carpet Cleaner - Spray - 0.25...       2.0   \n",
      "48859  Zep Commercial High Traffic Carpet Cleaner - S...       2.0   \n",
      "48860  Zep Commercial High Traffic Floor Finish - 1 g...       2.0   \n",
      "48861  Zep Commercial High-Traffic Floor Finish - Liq...       2.0   \n",
      "48862  Zep Floor Stripper - 128 oz (8 lb) - 1 Each - ...       2.0   \n",
      "48863  Zep Commercial Heavy-Duty Floor Stripper Conce...       2.0   \n",
      "48864  Zep Commercial Multipurpose Pine Cleaner - Liq...       2.0   \n",
      "48865  Zep Commercial Multipurpose Pine Cleaner - Con...       2.0   \n",
      "48866  Zep Concentrated Neutral Floor Cleaner - Liqui...       2.0   \n",
      "48867  Zep Commercial Neutral Floor Cleaner Concentra...       2.0   \n",
      "48868  Zep No Rinse Floor Disinfectant - Liquid - 1 g...       2.0   \n",
      "48869  Zep Commercial No-Rinse Floor Disinfectant - L...       2.0   \n",
      "48870  Zep Commercial Odor Control Concentrate - Liqu...       2.0   \n",
      "48871  Zep Commercial Odor Control Concentrate - Conc...       2.0   \n",
      "48872  Zep Quick Clean Disinfectant - Spray - 0.25 ga...       2.0   \n",
      "48873  Zep Commercial Quick Clean Disinfectant - Spra...       2.0   \n",
      "48874  Zep Commercial Professional Strength Smoke Odo...       2.0   \n",
      "48875  Zep Commercial Professional Strength Smoke Odo...       2.0   \n",
      "\n",
      "       Promo Level 3 Dealer Cost                   Class Name  \\\n",
      "0                           9.43          Calendars & Refills   \n",
      "1                           8.80          Calendars & Refills   \n",
      "2                          10.67          Calendars & Refills   \n",
      "3                          10.45          Calendars & Refills   \n",
      "4                          11.10          Calendars & Refills   \n",
      "5                          13.45          Calendars & Refills   \n",
      "6                          10.67          Calendars & Refills   \n",
      "7                          10.67          Calendars & Refills   \n",
      "8                           8.29          Calendars & Refills   \n",
      "9                          10.67          Calendars & Refills   \n",
      "10                         10.67          Calendars & Refills   \n",
      "11                          8.66          Calendars & Refills   \n",
      "12                         11.12          Calendars & Refills   \n",
      "13                          7.36          Calendars & Refills   \n",
      "14                          9.45          Calendars & Refills   \n",
      "15                          8.66          Calendars & Refills   \n",
      "16                         11.12          Calendars & Refills   \n",
      "17                          8.66          Calendars & Refills   \n",
      "18                          7.36          Calendars & Refills   \n",
      "19                          9.45          Calendars & Refills   \n",
      "20                          8.66          Calendars & Refills   \n",
      "21                         13.80          Calendars & Refills   \n",
      "22                          8.66          Calendars & Refills   \n",
      "23                         11.12          Calendars & Refills   \n",
      "24                         11.41          Calendars & Refills   \n",
      "25                         12.82          Calendars & Refills   \n",
      "26                          9.18          Calendars & Refills   \n",
      "27                         11.79          Calendars & Refills   \n",
      "28                         10.75          Calendars & Refills   \n",
      "29                          9.16          Calendars & Refills   \n",
      "...                          ...                          ...   \n",
      "48846                      58.76     Cleaners & Disinfectants   \n",
      "48847                      11.05     Cleaners & Disinfectants   \n",
      "48848                       8.50     Cleaners & Disinfectants   \n",
      "48849                      37.38     Cleaners & Disinfectants   \n",
      "48850                      12.97     Cleaners & Disinfectants   \n",
      "48851                      65.06     Cleaners & Disinfectants   \n",
      "48852                      11.49     Cleaners & Disinfectants   \n",
      "48853                      45.95     Cleaners & Disinfectants   \n",
      "48854                       5.49     Cleaners & Disinfectants   \n",
      "48855                      62.86     Cleaners & Disinfectants   \n",
      "48856                       9.60     Cleaners & Disinfectants   \n",
      "48857                      38.41     Cleaners & Disinfectants   \n",
      "48858                       2.60     Cleaners & Disinfectants   \n",
      "48859                      37.74     Cleaners & Disinfectants   \n",
      "48860                      14.57     Cleaners & Disinfectants   \n",
      "48861                      71.80     Cleaners & Disinfectants   \n",
      "48862                       8.74     Cleaners & Disinfectants   \n",
      "48863                      47.46     Cleaners & Disinfectants   \n",
      "48864                       5.49     Cleaners & Disinfectants   \n",
      "48865                      29.05     Cleaners & Disinfectants   \n",
      "48866                       9.54     Cleaners & Disinfectants   \n",
      "48867                      49.75     Cleaners & Disinfectants   \n",
      "48868                       9.47     Cleaners & Disinfectants   \n",
      "48869                      47.46     Cleaners & Disinfectants   \n",
      "48870                       8.60     Cleaners & Disinfectants   \n",
      "48871                      43.21     Cleaners & Disinfectants   \n",
      "48872                       2.97     Cleaners & Disinfectants   \n",
      "48873                      36.07     Cleaners & Disinfectants   \n",
      "48874                       3.55  Air Fresheners & Sanitizers   \n",
      "48875                      62.35  Air Fresheners & Sanitizers   \n",
      "\n",
      "                     Sub Class Name  \\\n",
      "0      Appointment Books & Planners   \n",
      "1      Appointment Books & Planners   \n",
      "2      Appointment Books & Planners   \n",
      "3      Appointment Books & Planners   \n",
      "4      Appointment Books & Planners   \n",
      "5      Appointment Books & Planners   \n",
      "6      Appointment Books & Planners   \n",
      "7      Appointment Books & Planners   \n",
      "8      Appointment Books & Planners   \n",
      "9      Appointment Books & Planners   \n",
      "10     Appointment Books & Planners   \n",
      "11     Appointment Books & Planners   \n",
      "12     Appointment Books & Planners   \n",
      "13     Appointment Books & Planners   \n",
      "14     Appointment Books & Planners   \n",
      "15     Appointment Books & Planners   \n",
      "16     Appointment Books & Planners   \n",
      "17     Appointment Books & Planners   \n",
      "18     Appointment Books & Planners   \n",
      "19     Appointment Books & Planners   \n",
      "20     Appointment Books & Planners   \n",
      "21     Appointment Books & Planners   \n",
      "22     Appointment Books & Planners   \n",
      "23     Appointment Books & Planners   \n",
      "24                   Desk Calendars   \n",
      "25     Appointment Books & Planners   \n",
      "26     Appointment Books & Planners   \n",
      "27     Appointment Books & Planners   \n",
      "28     Appointment Books & Planners   \n",
      "29     Appointment Books & Planners   \n",
      "...                             ...   \n",
      "48846          Toilet Bowl Cleaners   \n",
      "48847                 Disinfectants   \n",
      "48848       Floor & Carpet Cleaners   \n",
      "48849       Floor & Carpet Cleaners   \n",
      "48850       Floor & Carpet Cleaners   \n",
      "48851       Floor & Carpet Cleaners   \n",
      "48852       Floor & Carpet Cleaners   \n",
      "48853       Floor & Carpet Cleaners   \n",
      "48854       Floor & Carpet Cleaners   \n",
      "48855       Floor & Carpet Cleaners   \n",
      "48856       Floor & Carpet Cleaners   \n",
      "48857       Floor & Carpet Cleaners   \n",
      "48858       Floor & Carpet Cleaners   \n",
      "48859       Floor & Carpet Cleaners   \n",
      "48860       Floor & Carpet Cleaners   \n",
      "48861       Floor & Carpet Cleaners   \n",
      "48862       Floor & Carpet Cleaners   \n",
      "48863       Floor & Carpet Cleaners   \n",
      "48864         Multipurpose Cleaners   \n",
      "48865         Multipurpose Cleaners   \n",
      "48866       Floor & Carpet Cleaners   \n",
      "48867       Floor & Carpet Cleaners   \n",
      "48868       Floor & Carpet Cleaners   \n",
      "48869       Floor & Carpet Cleaners   \n",
      "48870         Multipurpose Cleaners   \n",
      "48871                 Disinfectants   \n",
      "48872                 Disinfectants   \n",
      "48873         Multipurpose Cleaners   \n",
      "48874     Air Fresheners/Sanitizers   \n",
      "48875     Air Fresheners/Sanitizers   \n",
      "\n",
      "                                                Features  Sub Class Label  \n",
      "0      june academic weekly monthly planner at-a-glan...               31  \n",
      "1      june academic monthly planner at-a-glance june...               31  \n",
      "2      june academic weekly monthly planner at-a-glan...               31  \n",
      "3      cityscape academic weekly/monthly planner at-a...               31  \n",
      "4      cityscape academic professional monthly  plann...               31  \n",
      "5      cityscape academic weekly/monthly planner at-a...               31  \n",
      "6      mia academic weekly monthly planner at-a-glanc...               31  \n",
      "7      penelope academic weekly/monthly planner at-a-...               31  \n",
      "8      aspire academic weekly/monthly planner at-a-gl...               31  \n",
      "9      aspire academic weekly/monthly planner at-a-gl...               31  \n",
      "10     ombre academic weekly/monthly planner at-a-gla...               31  \n",
      "11     blush weekly/monthly planner at-a-glance blush...               31  \n",
      "12     blush weekly/monthly planner at-a-glance blush...               31  \n",
      "13     ingrid weekly/monthly planner at-a-glance ingr...               31  \n",
      "14     ingrid weekly/monthly planner at-a-glance ingr...               31  \n",
      "15     cecilia weekly/monthly planner at-a-glance cec...               31  \n",
      "16     cecilia weekly/monthly planner at-a-glance cec...               31  \n",
      "17     sun dance weekly/monthly planner at-a-glance s...               31  \n",
      "18     agate weekly/monthly planner at-a-glance agate...               31  \n",
      "19     agate weekly/monthly planner at-a-glance agate...               31  \n",
      "20     aurora weekly/monthly planner at-a-glance auro...               31  \n",
      "21     aurora weekly/monthly planner at-a-glance auro...               31  \n",
      "22     parasol weekly/monthly planner at-a-glance par...               31  \n",
      "23     parasol weekly/monthly planner at-a-glance par...               31  \n",
      "24     vienna weekly/monthly planner at-a-glance vien...              256  \n",
      "25     vienna weekly/monthly planner at-a-glance vien...               31  \n",
      "26     marrakesh weekly/monthly planner at-a-glance m...               31  \n",
      "27     marrakesh weekly monthly planner at-a-glance m...               31  \n",
      "28     b-positive small weekly/monthly planner at-a-g...               31  \n",
      "29     b-positive small weekly/monthly planner at-a-g...               31  \n",
      "...                                                  ...              ...  \n",
      "48846  acidic toilet bowl cleaner zep commercial acid...              928  \n",
      "48847  antibacterial disinfectant and cleaner zep com...              274  \n",
      "48848  concentrated carpet extractor shampoo zep conc...              376  \n",
      "48849  extractor carpet shampoo concentrate zep comme...              376  \n",
      "48850  stain resistant floor sealer zep stain resista...              376  \n",
      "48851  stain resistant floor sealer zep commercial st...              376  \n",
      "48852  prof. strength hardwood floor cleaner zep comm...              376  \n",
      "48853  hardwood/laminate floor cleaner zep commercial...              376  \n",
      "48854  prof. strength hardwood floor cleaner zep comm...              376  \n",
      "48855  hardwood/laminate floor cleaner zep commercial...              376  \n",
      "48856  high traffic carpet cleaner zep commercial hig...              376  \n",
      "48857  high traffic carpet cleaner zep commercial hig...              376  \n",
      "48858  high traffic carpet cleaner zep high traffic c...              376  \n",
      "48859  high traffic carpet cleaner zep commercial hig...              376  \n",
      "48860  commercial high traffic floor finish zep comme...              376  \n",
      "48861  high-traffic floor finish zep commercial high-...              376  \n",
      "48862  floor stripper zep floor stripper - 128 oz (8 ...              376  \n",
      "48863  heavy-duty floor stripper concentrate zep comm...              376  \n",
      "48864  multipurpose pine cleaner zep commercial multi...              626  \n",
      "48865  multipurpose pine cleaner zep commercial multi...              626  \n",
      "48866  concentrated neutral floor cleaner zep concent...              376  \n",
      "48867  neutral floor cleaner concentrate zep commerci...              376  \n",
      "48868  no rinse floor disinfectant zep no rinse floor...              376  \n",
      "48869  no-rinse floor disinfectant zep commercial no-...              376  \n",
      "48870  odor control concentrate zep commercial odor c...              626  \n",
      "48871  odor control concentrate zep commercial odor c...              274  \n",
      "48872  quick clean disinfectant zep quick clean disin...              274  \n",
      "48873  quick clean disinfectant zep commercial quick ...              626  \n",
      "48874  professional strength smoke odor eliminator ze...               19  \n",
      "48875  professional strength smoke odor eliminator ze...               19  \n",
      "\n",
      "[47613 rows x 8 columns]\n"
     ]
    }
   ],
   "source": [
    "print(Com_SP_Richards_subset)"
   ]
  },
  {
   "cell_type": "code",
   "execution_count": 43,
   "metadata": {},
   "outputs": [
    {
     "data": {
      "image/png": "[encoded data removed]",
      "text/plain": [
       "<matplotlib.figure.Figure at 0x1a1897c6a0>"
      ]
     },
     "metadata": {},
     "output_type": "display_data"
    }
   ],
   "source": [
    "#Because single class has different product with wide range of price, it is hard to come up with special trend of price\n",
    "#vs eco-sttar\n",
    "gb = Com_SP_Richards_subset.groupby(\"Sub Class Name\")\n",
    "a_group=gb.get_group(\"Sheet Protectors\")\n",
    "\n",
    "plt.plot(a_group['RawScore'],a_group['Promo Level 3 Dealer Cost'],\".\")\n",
    "plt.xlabel('ECO-STAR')\n",
    "plt.ylabel('Price')\n",
    "plt.show()"
   ]
  },
  {
   "cell_type": "code",
   "execution_count": 44,
   "metadata": {},
   "outputs": [],
   "source": [
    "#Save data to Predict, Group and Sort.\n",
    "Com_SP_Richards_subset.to_csv(\"complete_data_set_for_Name_Score_price.csv\")"
   ]
  },
  {
   "cell_type": "code",
   "execution_count": 45,
   "metadata": {},
   "outputs": [],
   "source": [
    "#Split data in training and testing. Just use column 6: \"Features\" and \"column 7: \"Sub Class Name\"\n",
    "X_train, X_test, y_train, y_test = train_test_split(Com_SP_Richards_subset.iloc[:,6].values, Com_SP_Richards_subset.iloc[:,7].values, test_size=0.2,random_state=40)"
   ]
  },
  {
   "cell_type": "code",
   "execution_count": 46,
   "metadata": {},
   "outputs": [
    {
     "data": {
      "text/plain": [
       "array(['bn6000 time clock uattend bn6000 time clock - biometric - 5000 employees',\n",
       "       'managerial mid-back chair lorell managerial mid-back chair - fabric seat - black back - 5-star base - green - 25.3\" width x 23.5\" depth x 40.5\" height',\n",
       "       'advantus roll midgees candy tootsie advantus roll midgees candy - chocolate - individually wrapped, gluten-free, peanut-free - 5 lb - 1 bag',\n",
       "       ...,\n",
       "       'global harmonized system sds center kit skilcraft global harmonized system sds center kit',\n",
       "       'blue copy red date stamp base xstamper blue copy red date stamp base - 1 each - blue, red ink',\n",
       "       '16\" stack chair, chrome legs ecr4kids 16\" stack chair, chrome legs - steel back - four-legged base - red - plastic, steel - 17.3\" width x 17.3\" depth x 28.8\" height'],\n",
       "      dtype=object)"
      ]
     },
     "execution_count": 46,
     "metadata": {},
     "output_type": "execute_result"
    }
   ],
   "source": [
    "#Test that proper values are used:\n",
    "X_train"
   ]
  },
  {
   "cell_type": "code",
   "execution_count": 47,
   "metadata": {},
   "outputs": [
    {
     "data": {
      "text/plain": [
       "array([ 41, 564, 124, ..., 780, 849, 383], dtype=int16)"
      ]
     },
     "execution_count": 47,
     "metadata": {},
     "output_type": "execute_result"
    }
   ],
   "source": [
    "y_train"
   ]
  },
  {
   "cell_type": "markdown",
   "metadata": {},
   "source": [
    "# Machine Learning Pipeline"
   ]
  },
  {
   "cell_type": "markdown",
   "metadata": {},
   "source": [
    "This pipeline contains two main components:\n",
    "    1. Natural Language Processing:\n",
    "            a. CountVectorizer()\n",
    "            b. TfidfTransformer()\n",
    "    and\n",
    "    2. Classification:\n",
    "            a. LogisticRegression. The parameters are carefully tuned to get better performance. \n",
    "            b. MultinomialNB. This is very fast method if we want to model very-vety fast. It is weak in performance. "
   ]
  },
  {
   "cell_type": "code",
   "execution_count": 64,
   "metadata": {},
   "outputs": [],
   "source": [
    "#Test:\n",
    "#In current model Logistic regression is used.\n",
    "count_vect = CountVectorizer()\n",
    "tf = TfidfTransformer(use_idf=False)\n",
    "tfidf = TfidfTransformer()\n",
    "nb  = MultinomialNB(alpha=0.001, class_prior=None, fit_prior=True)\n",
    "lr = LogisticRegression(C=30.0, class_weight='balanced', solver='newton-cg', \n",
    "                        multi_class='multinomial', n_jobs=-1, random_state=40)\n",
    "\n",
    "#print(X_train)\n",
    "\n",
    "p = Pipeline([ \n",
    "    ('count_vect',count_vect),\n",
    "    #('tf',tf),\n",
    "    #('tfidf', tfidf),\n",
    "    #('lr', lr)\n",
    "    #('nb',nb)\n",
    "])\n",
    "test = p.fit_transform(X_train)\n",
    "#print(test.toarray() )\n",
    "for i in range(1000):\n",
    "    if test.toarray()[0][i]:\n",
    "        print (test.toarray()[0][i])"
   ]
  },
  {
   "cell_type": "code",
   "execution_count": 127,
   "metadata": {},
   "outputs": [],
   "source": [
    "#In current model Logistic regression is used.\n",
    "count_vect = CountVectorizer()\n",
    "tf = TfidfTransformer(use_idf=False)\n",
    "tfidf = TfidfTransformer()\n",
    "nb  = MultinomialNB(alpha=0.001, class_prior=None, fit_prior=True)\n",
    "lr = LogisticRegression(C=30.0, class_weight='balanced', solver='newton-cg', \n",
    "                        multi_class='multinomial', n_jobs=-1, random_state=40)\n",
    "\n",
    "\n",
    "p = Pipeline([ \n",
    "    ('count_vect',count_vect),\n",
    "    ('tf',tf),\n",
    "    ('tfidf', tfidf),\n",
    "    ('lr', lr)\n",
    "    #('nb',nb)\n",
    "])\n",
    "\n"
   ]
  },
  {
   "cell_type": "markdown",
   "metadata": {},
   "source": [
    "Model is main model of classification. We save it to file to use it in front end."
   ]
  },
  {
   "cell_type": "code",
   "execution_count": 54,
   "metadata": {},
   "outputs": [],
   "source": [
    "#This model takes upto half hour to run\n",
    "#model = p.fit(X=X_train,y=y_train)"
   ]
  },
  {
   "cell_type": "code",
   "execution_count": 55,
   "metadata": {},
   "outputs": [],
   "source": [
    "# save the model to disk\n",
    "# We bring this model to front end.\n",
    "import joblib\n",
    "filename = 'new_data_finalized_lr_model_wPipe.sav'\n",
    "joblib.dump(model, open(filename, 'wb'))"
   ]
  },
  {
   "cell_type": "code",
   "execution_count": 57,
   "metadata": {},
   "outputs": [
    {
     "name": "stdout",
     "output_type": "stream",
     "text": [
      "[ 851  398  818 ... 1004  529  562]\n"
     ]
    }
   ],
   "source": [
    "#Test reading the saved model\n",
    "import joblib\n",
    "loaded_model = joblib.load(filename)\n",
    "result = loaded_model.predict(X_test)\n",
    "print (result)"
   ]
  },
  {
   "cell_type": "code",
   "execution_count": 59,
   "metadata": {},
   "outputs": [
    {
     "name": "stdout",
     "output_type": "stream",
     "text": [
      "[826]\n"
     ]
    },
    {
     "data": {
      "text/plain": [
       "'Snacks'"
      ]
     },
     "execution_count": 59,
     "metadata": {},
     "output_type": "execute_result"
    }
   ],
   "source": [
    "#Manual test on how it classifies\n",
    "#Enter any word or phrase withing commas to find the result class\n",
    "product_name_phrase = \"Chips\"\n",
    "out_arr = loaded_model.predict([product_name_phrase])\n",
    "print (out_arr)\n",
    "Com_SP_Richards_subset['Sub Class Name'].loc[Com_SP_Richards_subset['Sub Class Label']==out_arr[0]].unique()[0]"
   ]
  },
  {
   "cell_type": "code",
   "execution_count": 60,
   "metadata": {},
   "outputs": [],
   "source": [
    "#Create an array of y-predicted\n",
    "y_predicted = model.predict(X_test)"
   ]
  },
  {
   "cell_type": "markdown",
   "metadata": {},
   "source": [
    "# Validation"
   ]
  },
  {
   "cell_type": "markdown",
   "metadata": {},
   "source": [
    "Test Classification accuracy, precision, recall and f1-score"
   ]
  },
  {
   "cell_type": "code",
   "execution_count": 125,
   "metadata": {},
   "outputs": [
    {
     "name": "stdout",
     "output_type": "stream",
     "text": [
      "accuracy = 0.893, precision = 0.901, recall = 0.893, f1 = 0.892\n"
     ]
    },
    {
     "name": "stderr",
     "output_type": "stream",
     "text": [
      "/Users/prabhatb/anaconda3/lib/python3.6/site-packages/sklearn/metrics/classification.py:1135: UndefinedMetricWarning: Precision is ill-defined and being set to 0.0 in labels with no predicted samples.\n",
      "  'precision', 'predicted', average, warn_for)\n",
      "/Users/prabhatb/anaconda3/lib/python3.6/site-packages/sklearn/metrics/classification.py:1137: UndefinedMetricWarning: Recall is ill-defined and being set to 0.0 in labels with no true samples.\n",
      "  'recall', 'true', average, warn_for)\n",
      "/Users/prabhatb/anaconda3/lib/python3.6/site-packages/sklearn/metrics/classification.py:1135: UndefinedMetricWarning: F-score is ill-defined and being set to 0.0 in labels with no predicted samples.\n",
      "  'precision', 'predicted', average, warn_for)\n",
      "/Users/prabhatb/anaconda3/lib/python3.6/site-packages/sklearn/metrics/classification.py:1137: UndefinedMetricWarning: F-score is ill-defined and being set to 0.0 in labels with no true samples.\n",
      "  'recall', 'true', average, warn_for)\n"
     ]
    }
   ],
   "source": [
    "def get_metrics(y_test, y_predicted):\n",
    "    # true positives / (true positives+false positives)\n",
    "    precision = precision_score(y_test, y_predicted, pos_label=None,\n",
    "                                    average='weighted')\n",
    "    # true positives / (true positives + false negatives)\n",
    "    recall = recall_score(y_test, y_predicted, pos_label=None,\n",
    "                              average='weighted')\n",
    "\n",
    "    # harmonic mean of precision and recall\n",
    "    f1 = f1_score(y_test, y_predicted, pos_label=None, average='weighted')\n",
    "\n",
    "    # true positives + true negatives/ total\n",
    "    accuracy = accuracy_score(y_test, y_predicted)\n",
    "    return accuracy, precision, recall, f1\n",
    "\n",
    "accuracy, precision, recall, f1 = get_metrics(y_test, y_predicted)\n",
    "print(\"accuracy = %.3f, precision = %.3f, recall = %.3f, f1 = %.3f\" % (accuracy, precision, recall, f1))\n",
    "\n",
    "#accuracy = 0.893, precision = 0.901, recall = 0.893, f1 = 0.892 for LR C=30.0\n",
    "\n",
    "# Note that this accuracy goes to 93% when we use \"Class Name\" as predictor insted of \"Sub Class Name\" that has \n",
    "# currenly been used.\n"
   ]
  },
  {
   "cell_type": "code",
   "execution_count": 99,
   "metadata": {},
   "outputs": [
    {
     "name": "stdout",
     "output_type": "stream",
     "text": [
      "[[ 6  0  0 ...  0  0  0]\n",
      " [ 0 15  0 ...  0  0  0]\n",
      " [ 0  0  2 ...  0  0  0]\n",
      " ...\n",
      " [ 0  0  0 ...  1  0  0]\n",
      " [ 0  0  0 ...  0  5  0]\n",
      " [ 0  0  0 ...  0  0  2]]\n"
     ]
    },
    {
     "data": {
      "image/png": "[encoded data removed]",
      "text/plain": [
       "<matplotlib.figure.Figure at 0x1a2b031da0>"
      ]
     },
     "metadata": {},
     "output_type": "display_data"
    }
   ],
   "source": [
    "#See the confusion matrix. In careful observation we can see a line in diagonal from left top to right bottom.\n",
    "#Note: Confusion matrix is not useful way to visualize validation in such case of large number of classes. \n",
    "import matplotlib.pyplot as plt\n",
    "from sklearn.metrics import confusion_matrix\n",
    "from matplotlib.colors import ListedColormap\n",
    "labels = ['']\n",
    "cm = confusion_matrix(y_test, y_predicted)\n",
    "print(cm)\n",
    "fig = plt.figure(figsize=(15,15))\n",
    "ax = fig.add_subplot(111)\n",
    "cmap = ListedColormap(['w','r','r','r','r','r','r','r','r','r','r','r','r','r','r','r','r','r','r','r','r','r','r','r','r','r','r'])\n",
    "cax = ax.matshow(cm,cmap=cmap)\n",
    "plt.title('Confusion matrix for NB')\n",
    "fig.colorbar(cax)\n",
    "ax.set_xticklabels([''] + labels)\n",
    "ax.set_yticklabels([''] + labels)\n",
    "plt.xlabel('Predicted')\n",
    "plt.ylabel('True')\n",
    "plt.show()\n",
    "#fig.savefig('confusion_matrix.png', bbox_inches='tight')"
   ]
  },
  {
   "cell_type": "code",
   "execution_count": 100,
   "metadata": {},
   "outputs": [],
   "source": [
    "#Save Data \n",
    "complete_data = pd.read_csv('complete_data_set_for_Name_Score_price.csv')"
   ]
  },
  {
   "cell_type": "markdown",
   "metadata": {},
   "source": [
    "# Tests"
   ]
  },
  {
   "cell_type": "markdown",
   "metadata": {},
   "source": [
    "Final test before deploying model"
   ]
  },
  {
   "cell_type": "code",
   "execution_count": 101,
   "metadata": {},
   "outputs": [
    {
     "name": "stdout",
     "output_type": "stream",
     "text": [
      "[702]\n",
      "Play Tables\n"
     ]
    }
   ],
   "source": [
    "product_name_phrase = \"Table\"\n",
    "out_arr = loaded_model.predict([product_name_phrase])\n",
    "print (out_arr)\n",
    "sub_class =complete_data['Sub Class Name'].loc[complete_data['Sub Class Label']==out_arr[0]].unique()[0]\n",
    "print (sub_class)\n"
   ]
  },
  {
   "cell_type": "code",
   "execution_count": 114,
   "metadata": {},
   "outputs": [],
   "source": [
    "#Group product by \"Sub Class Name\"\n",
    "gb = complete_data.groupby(\"Sub Class Name\")\n",
    "#Take \"Sub Class\" predicted using product_name_phrase and classification model\n",
    "a_group = gb.get_group(sub_class)\n",
    "#Sort the values such that eco-star is sorted from highest to lowest while the cost in lowest to highest order\n",
    "sorted_a_higheco_group =a_group.sort_values(['RawScore','Promo Level 3 Dealer Cost'],ascending=[0,1])\n",
    "\n",
    "first_recomm = sorted_a_higheco_group.iloc[0][1]\n",
    "second_recomm = sorted_a_higheco_group.iloc[1][1]\n",
    "third_recomm = sorted_a_higheco_group.iloc[2][1]"
   ]
  },
  {
   "cell_type": "code",
   "execution_count": 115,
   "metadata": {},
   "outputs": [
    {
     "name": "stdout",
     "output_type": "stream",
     "text": [
      "Natural Birch 3-piece Play Kitchen Set     Housecleaning Set-n-Rack     Mesa Activity Table\n"
     ]
    }
   ],
   "source": [
    "print (first_recomm,'   ', second_recomm,'   ',third_recomm )"
   ]
  },
  {
   "cell_type": "code",
   "execution_count": 116,
   "metadata": {},
   "outputs": [],
   "source": [
    "first_recomm = sorted_a_higheco_group.iloc[0][3]\n",
    "second_recomm = sorted_a_higheco_group.iloc[1][3]\n",
    "third_recomm = sorted_a_higheco_group.iloc[2][3]"
   ]
  },
  {
   "cell_type": "code",
   "execution_count": 117,
   "metadata": {},
   "outputs": [
    {
     "name": "stdout",
     "output_type": "stream",
     "text": [
      "5.0     4.0     4.0\n"
     ]
    }
   ],
   "source": [
    "print (first_recomm,'   ', second_recomm,'   ',third_recomm )"
   ]
  },
  {
   "cell_type": "code",
   "execution_count": 118,
   "metadata": {},
   "outputs": [],
   "source": [
    "first_recomm = sorted_a_higheco_group.iloc[0][4]\n",
    "second_recomm = sorted_a_higheco_group.iloc[1][4]\n",
    "third_recomm = sorted_a_higheco_group.iloc[2][4]"
   ]
  },
  {
   "cell_type": "code",
   "execution_count": 107,
   "metadata": {},
   "outputs": [
    {
     "name": "stdout",
     "output_type": "stream",
     "text": [
      "759.92     106.05     169.52\n"
     ]
    }
   ],
   "source": [
    "print (first_recomm,'   ', second_recomm,'   ',third_recomm )"
   ]
  },
  {
   "cell_type": "code",
   "execution_count": 119,
   "metadata": {},
   "outputs": [],
   "source": [
    "#Sort the values such that eco-star is sorted from lowest to highest and also the cost in lowest to highest order\n",
    "sorted_a_logheco_group =a_group.sort_values(['RawScore','Promo Level 3 Dealer Cost'],ascending=[1,1])\n",
    "last_recomm = sorted_a_logheco_group.iloc[0][1]\n",
    "second_last_recomm = sorted_a_logheco_group.iloc[1][1]\n",
    "third_last_recomm = sorted_a_logheco_group.iloc[2][1]"
   ]
  },
  {
   "cell_type": "code",
   "execution_count": 120,
   "metadata": {},
   "outputs": [
    {
     "name": "stdout",
     "output_type": "stream",
     "text": [
      "Activity Table     106.05     169.52\n"
     ]
    }
   ],
   "source": [
    "print (last_recomm,'   ', second_recomm,'   ',third_recomm )"
   ]
  },
  {
   "cell_type": "code",
   "execution_count": 121,
   "metadata": {},
   "outputs": [],
   "source": [
    "last_recomm = sorted_a_logheco_group.iloc[0][3]\n",
    "second_last_recomm = sorted_a_logheco_group.iloc[1][3]\n",
    "third_last_recomm = sorted_a_logheco_group.iloc[2][3]"
   ]
  },
  {
   "cell_type": "code",
   "execution_count": 122,
   "metadata": {},
   "outputs": [
    {
     "name": "stdout",
     "output_type": "stream",
     "text": [
      "0.0     0.0     0.0\n"
     ]
    }
   ],
   "source": [
    "print (last_recomm,'   ', second_last_recomm,'   ',third_last_recomm )"
   ]
  },
  {
   "cell_type": "code",
   "execution_count": 123,
   "metadata": {},
   "outputs": [],
   "source": [
    "last_recomm = sorted_a_logheco_group.iloc[0][4]\n",
    "second_last_recomm = sorted_a_logheco_group.iloc[1][4]\n",
    "third_last_recomm = sorted_a_logheco_group.iloc[2][4]"
   ]
  },
  {
   "cell_type": "code",
   "execution_count": 124,
   "metadata": {},
   "outputs": [
    {
     "name": "stdout",
     "output_type": "stream",
     "text": [
      "169.52     169.52     169.52\n"
     ]
    }
   ],
   "source": [
    "print (last_recomm,'   ', second_last_recomm,'   ',third_last_recomm )"
   ]
  },
  {
   "cell_type": "code",
   "execution_count": null,
   "metadata": {},
   "outputs": [],
   "source": []
  },
  {
   "cell_type": "markdown",
   "metadata": {},
   "source": [
    "# Note: please use two files for front end production:\n",
    "\n",
    "    1. new_data_finalized_lr_model_wPipe.sav\n",
    "and\n",
    "    2. complete_data_set_for_Name_Score_price.csv\n",
    "    \n",
    "\n"
   ]
  },
  {
   "cell_type": "markdown",
   "metadata": {},
   "source": [
    "Authors Note:\n",
    "    Very interesting project. Author thinks that this problem meets requirement if Machine Learning is blended well with Softeare Engineering."
   ]
  },
  {
   "cell_type": "code",
   "execution_count": null,
   "metadata": {},
   "outputs": [],
   "source": []
  }
 ],
 "metadata": {
  "kernelspec": {
   "display_name": "Python 3",
   "language": "python",
   "name": "python3"
  },
  "language_info": {
   "codemirror_mode": {
    "name": "ipython",
    "version": 3
   },
   "file_extension": ".py",
   "mimetype": "text/x-python",
   "name": "python",
   "nbconvert_exporter": "python",
   "pygments_lexer": "ipython3",
   "version": "3.6.8"
  }
 },
 "nbformat": 4,
 "nbformat_minor": 2
}
